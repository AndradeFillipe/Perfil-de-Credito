{
  "nbformat": 4,
  "nbformat_minor": 0,
  "metadata": {
    "colab": {
      "name": "Projeto.ipynb",
      "provenance": [],
      "collapsed_sections": [],
      "toc_visible": true
    },
    "kernelspec": {
      "name": "python3",
      "display_name": "Python 3"
    },
    "language_info": {
      "name": "python"
    }
  },
  "cells": [
    {
      "cell_type": "markdown",
      "metadata": {
        "id": "CM_32PEXQbgR"
      },
      "source": [
        "\n",
        "\n",
        "## **Tema:** Clusterização de clientes por perfil de compra\n",
        "\n",
        "## Autor: Fillipe de Almeida Andrade \n"
      ]
    },
    {
      "cell_type": "markdown",
      "metadata": {
        "id": "Oyw1Fy7vSAHp"
      },
      "source": [
        "## Objetivo\n",
        "\n",
        "\n",
        "\n",
        "> O objetivo principal deste projeto é fazer o agrupamento dos clientes de uma determinada loja de um banco de dados no kaggle através do algoritmo não supervisionado Kmeans, sendo que o agrupamento deve estar coerente com o conceito dos grupos de crédito. Os grupos propostos por este trabalho são:\n",
        "\n",
        "\n",
        "*   Pessoas com alta renda, mas gastam pouco (**Baixo Risco**)\n",
        "*   Pessoas que estão na média de gasto e ganho (**Médio Risco**)\n",
        "*   Pessoas que ganham muito e gastam muito (**Ideal**)\n",
        "*   Pessoas que ganham pouco e gastam pouco (**Normal**)\n",
        "*   Pessoas que ganham pouco e gastam muito (**Alto Risco**)\n",
        "\n",
        "\n",
        "\n",
        "> A partir desses clusters será analisado se a IA obteve sucesso observando o gráfico resultante.\n",
        "\n",
        "\n",
        "\n",
        "\n"
      ]
    },
    {
      "cell_type": "markdown",
      "metadata": {
        "id": "d53ldZDfUuui"
      },
      "source": [
        "## Metodologia\n",
        "\n",
        "\n",
        "\n",
        "\n",
        "> Nesta seção será mostrado os passos nescessários para construção da inteligência artificial\n",
        "\n"
      ]
    },
    {
      "cell_type": "markdown",
      "metadata": {
        "id": "njFitdmQtDT5"
      },
      "source": [
        "### Importando as Bibliotecas nescessárias para o projeto"
      ]
    },
    {
      "cell_type": "code",
      "metadata": {
        "id": "gkLci0p5MJyY"
      },
      "source": [
        "import matplotlib.pyplot as plt\n",
        "import pandas as pd\n",
        "from sklearn.cluster import KMeans\n",
        "from sklearn.preprocessing import StandardScaler\n",
        "import numpy as np\n"
      ],
      "execution_count": null,
      "outputs": []
    },
    {
      "cell_type": "markdown",
      "metadata": {
        "id": "TpJb8MzctLqi"
      },
      "source": [
        "### Pegando a base de dados de clientes de um shopping, base disponivel no kaggle no seguinte link:\n",
        "\n",
        "\n",
        "\n",
        "> https://www.kaggle.com/vjchoudhary7/customer-segmentation-tutorial-in-python\n",
        "\n"
      ]
    },
    {
      "cell_type": "code",
      "metadata": {
        "colab": {
          "base_uri": "https://localhost:8080/",
          "height": 419
        },
        "id": "hjbzHR-EMile",
        "outputId": "5d4158d0-3787-4334-9018-e0911be0116d"
      },
      "source": [
        "base = pd.read_csv('/content/Mall_Customers.csv', header = 0)\n",
        "base"
      ],
      "execution_count": null,
      "outputs": [
        {
          "output_type": "execute_result",
          "data": {
            "text/html": [
              "<div>\n",
              "<style scoped>\n",
              "    .dataframe tbody tr th:only-of-type {\n",
              "        vertical-align: middle;\n",
              "    }\n",
              "\n",
              "    .dataframe tbody tr th {\n",
              "        vertical-align: top;\n",
              "    }\n",
              "\n",
              "    .dataframe thead th {\n",
              "        text-align: right;\n",
              "    }\n",
              "</style>\n",
              "<table border=\"1\" class=\"dataframe\">\n",
              "  <thead>\n",
              "    <tr style=\"text-align: right;\">\n",
              "      <th></th>\n",
              "      <th>CustomerID</th>\n",
              "      <th>Gender</th>\n",
              "      <th>Age</th>\n",
              "      <th>Annual Income (k$)</th>\n",
              "      <th>Spending Score (1-100)</th>\n",
              "    </tr>\n",
              "  </thead>\n",
              "  <tbody>\n",
              "    <tr>\n",
              "      <th>0</th>\n",
              "      <td>1</td>\n",
              "      <td>Male</td>\n",
              "      <td>19</td>\n",
              "      <td>15</td>\n",
              "      <td>39</td>\n",
              "    </tr>\n",
              "    <tr>\n",
              "      <th>1</th>\n",
              "      <td>2</td>\n",
              "      <td>Male</td>\n",
              "      <td>21</td>\n",
              "      <td>15</td>\n",
              "      <td>81</td>\n",
              "    </tr>\n",
              "    <tr>\n",
              "      <th>2</th>\n",
              "      <td>3</td>\n",
              "      <td>Female</td>\n",
              "      <td>20</td>\n",
              "      <td>16</td>\n",
              "      <td>6</td>\n",
              "    </tr>\n",
              "    <tr>\n",
              "      <th>3</th>\n",
              "      <td>4</td>\n",
              "      <td>Female</td>\n",
              "      <td>23</td>\n",
              "      <td>16</td>\n",
              "      <td>77</td>\n",
              "    </tr>\n",
              "    <tr>\n",
              "      <th>4</th>\n",
              "      <td>5</td>\n",
              "      <td>Female</td>\n",
              "      <td>31</td>\n",
              "      <td>17</td>\n",
              "      <td>40</td>\n",
              "    </tr>\n",
              "    <tr>\n",
              "      <th>...</th>\n",
              "      <td>...</td>\n",
              "      <td>...</td>\n",
              "      <td>...</td>\n",
              "      <td>...</td>\n",
              "      <td>...</td>\n",
              "    </tr>\n",
              "    <tr>\n",
              "      <th>195</th>\n",
              "      <td>196</td>\n",
              "      <td>Female</td>\n",
              "      <td>35</td>\n",
              "      <td>120</td>\n",
              "      <td>79</td>\n",
              "    </tr>\n",
              "    <tr>\n",
              "      <th>196</th>\n",
              "      <td>197</td>\n",
              "      <td>Female</td>\n",
              "      <td>45</td>\n",
              "      <td>126</td>\n",
              "      <td>28</td>\n",
              "    </tr>\n",
              "    <tr>\n",
              "      <th>197</th>\n",
              "      <td>198</td>\n",
              "      <td>Male</td>\n",
              "      <td>32</td>\n",
              "      <td>126</td>\n",
              "      <td>74</td>\n",
              "    </tr>\n",
              "    <tr>\n",
              "      <th>198</th>\n",
              "      <td>199</td>\n",
              "      <td>Male</td>\n",
              "      <td>32</td>\n",
              "      <td>137</td>\n",
              "      <td>18</td>\n",
              "    </tr>\n",
              "    <tr>\n",
              "      <th>199</th>\n",
              "      <td>200</td>\n",
              "      <td>Male</td>\n",
              "      <td>30</td>\n",
              "      <td>137</td>\n",
              "      <td>83</td>\n",
              "    </tr>\n",
              "  </tbody>\n",
              "</table>\n",
              "<p>200 rows × 5 columns</p>\n",
              "</div>"
            ],
            "text/plain": [
              "     CustomerID  Gender  Age  Annual Income (k$)  Spending Score (1-100)\n",
              "0             1    Male   19                  15                      39\n",
              "1             2    Male   21                  15                      81\n",
              "2             3  Female   20                  16                       6\n",
              "3             4  Female   23                  16                      77\n",
              "4             5  Female   31                  17                      40\n",
              "..          ...     ...  ...                 ...                     ...\n",
              "195         196  Female   35                 120                      79\n",
              "196         197  Female   45                 126                      28\n",
              "197         198    Male   32                 126                      74\n",
              "198         199    Male   32                 137                      18\n",
              "199         200    Male   30                 137                      83\n",
              "\n",
              "[200 rows x 5 columns]"
            ]
          },
          "metadata": {},
          "execution_count": 21
        }
      ]
    },
    {
      "cell_type": "markdown",
      "metadata": {
        "id": "dEi3Bp6ytngI"
      },
      "source": [
        "### Pegando os atributos essenciais para o problema\n",
        "\n",
        "\n",
        "\n",
        "> Não foi escolhido o sexo e a idade, pois pode enviesar a IA por esses atributos que né indesejado para o modelo que deve se basear em crédito e o comportamento dos clientes em utilizar seus ganhos e como isso pode ser potencializado.\n",
        "\n"
      ]
    },
    {
      "cell_type": "code",
      "metadata": {
        "id": "6MF0dRwBOSKs"
      },
      "source": [
        "X= base.iloc[:, [3,4]].values\n",
        "\n"
      ],
      "execution_count": null,
      "outputs": []
    },
    {
      "cell_type": "markdown",
      "metadata": {
        "id": "HBFoQgTzuM7h"
      },
      "source": [
        "### Análise da quantidade de clusters ideal para este tipo de problema e qual o significado de cada cluster no problema.\n",
        "\n",
        "\n",
        "\n",
        "> WCSS é um indicador que mostra como cada cluster irá separar os dados, na escolha do cluster é sempre importante observar em qual valor haverá umm grande decrescimento, sendo então o valor ideal para o problema.\n",
        "\n"
      ]
    },
    {
      "cell_type": "code",
      "metadata": {
        "colab": {
          "base_uri": "https://localhost:8080/",
          "height": 296
        },
        "id": "WZYUwtc-PfEx",
        "outputId": "2357fff8-809e-47d2-a112-ddaa84cf2f6f"
      },
      "source": [
        "wcss = []\n",
        "for i in range(1, 11):\n",
        "    kmeans = KMeans(n_clusters = i, random_state = 0)\n",
        "    kmeans.fit(X)\n",
        "    wcss.append(kmeans.inertia_)\n",
        "plt.plot(range(1, 11), wcss)\n",
        "plt.xlabel('Número de clusters')\n",
        "plt.ylabel('WCSS')"
      ],
      "execution_count": null,
      "outputs": [
        {
          "output_type": "execute_result",
          "data": {
            "text/plain": [
              "Text(0, 0.5, 'WCSS')"
            ]
          },
          "metadata": {},
          "execution_count": 57
        },
        {
          "output_type": "display_data",
          "data": {
            "image/png": "[encoded data removed]",
            "text/plain": [
              "<Figure size 432x288 with 1 Axes>"
            ]
          },
          "metadata": {
            "needs_background": "light"
          }
        }
      ]
    },
    {
      "cell_type": "markdown",
      "metadata": {
        "id": "afY_DEOKvZ_f"
      },
      "source": [
        "### Definição na quantidade de grupos\n",
        "\n",
        "\n",
        "\n",
        "> Observando o gráfico é visto que o indicador WCSS descresce consideravelmento em 5 clusters, então na criação do modelo abaixo foi escolhido esse valor para o indicador. Por fim feita a previsão\n",
        "\n"
      ]
    },
    {
      "cell_type": "code",
      "metadata": {
        "id": "EXKGHjDhQAm6"
      },
      "source": [
        "kmeans = KMeans(n_clusters = 5, random_state = 0)\n",
        "previsoes = kmeans.fit_predict(X)"
      ],
      "execution_count": null,
      "outputs": []
    },
    {
      "cell_type": "code",
      "metadata": {
        "colab": {
          "base_uri": "https://localhost:8080/",
          "height": 296
        },
        "id": "efpkObfFQELN",
        "outputId": "f02b6f8c-97cc-4709-8dad-06b30e8b6ac3"
      },
      "source": [
        "plt.scatter(X[previsoes == 0, 0], X[previsoes == 0, 1], s = 100, c = 'red', label = 'Baixo Risco')\n",
        "plt.scatter(X[previsoes == 1, 0], X[previsoes == 1, 1], s = 100, c = 'orange', label = 'Médio Risco')\n",
        "plt.scatter(X[previsoes == 2, 0], X[previsoes == 2, 1], s = 100, c = 'green', label = 'Ideal')\n",
        "plt.scatter(X[previsoes == 3, 0], X[previsoes == 3, 1], s = 100, c = 'blue', label = 'Alto Risco')\n",
        "plt.scatter(X[previsoes == 4, 0], X[previsoes == 4, 1], s = 100, c = 'black', label = 'Normal')\n",
        "plt.xlabel('Limite')\n",
        "plt.ylabel('Gastos')\n",
        "plt.legend()"
      ],
      "execution_count": null,
      "outputs": [
        {
          "output_type": "execute_result",
          "data": {
            "text/plain": [
              "<matplotlib.legend.Legend at 0x7fa18c83a6d0>"
            ]
          },
          "metadata": {},
          "execution_count": 60
        },
        {
          "output_type": "display_data",
          "data": {
            "image/png": "[encoded data removed]",
            "text/plain": [
              "<Figure size 432x288 with 1 Axes>"
            ]
          },
          "metadata": {
            "needs_background": "light"
          }
        }
      ]
    },
    {
      "cell_type": "markdown",
      "metadata": {
        "id": "bMKLtYWkv1y_"
      },
      "source": [
        "## Resultados\n",
        "\n",
        "\n",
        "\n",
        "> Olhando para o gráfico vemos que os grupos definidos nos objetivos foram aplicados na mtedologia, alcançando assim uma definição do grupo em que cada cliente pertence. E como deve ser ajustado o limite de cada grupo e incentivo a compras, visando uma maior taxa de vendas e incentivo a compras sem dívidas para os clientes.\n",
        "\n"
      ]
    },
    {
      "cell_type": "markdown",
      "metadata": {
        "id": "H1sPYVsMel01"
      },
      "source": [
        "\n",
        "\n",
        "> Observação geral da bae com as previsões\n",
        "\n"
      ]
    },
    {
      "cell_type": "code",
      "metadata": {
        "id": "-zf7zJQTQKvn"
      },
      "source": [
        "lista_clientes = np.column_stack((base, previsoes))\n",
        "lista_clientes = lista_clientes[lista_clientes[:,5].argsort()]"
      ],
      "execution_count": null,
      "outputs": []
    },
    {
      "cell_type": "code",
      "metadata": {
        "colab": {
          "base_uri": "https://localhost:8080/"
        },
        "id": "2WPvIBo0QMPD",
        "outputId": "b76d1249-63d8-4628-8348-a988e5875187"
      },
      "source": [
        "lista_clientes"
      ],
      "execution_count": null,
      "outputs": [
        {
          "output_type": "execute_result",
          "data": {
            "text/plain": [
              "array([[200, 'Male', 30, 137, 83, 0],\n",
              "       [172, 'Male', 28, 87, 75, 0],\n",
              "       [170, 'Male', 32, 87, 63, 0],\n",
              "       ...,\n",
              "       [49, 'Female', 29, 40, 42, 2],\n",
              "       [88, 'Female', 22, 57, 55, 2],\n",
              "       [100, 'Male', 20, 61, 49, 2]], dtype=object)"
            ]
          },
          "metadata": {},
          "execution_count": 44
        }
      ]
    }
  ]
}